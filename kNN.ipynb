{
 "cells": [
  {
   "cell_type": "code",
   "execution_count": 1,
   "metadata": {
    "collapsed": true
   },
   "outputs": [],
   "source": [
    "import pandas as pd\n",
    "import numpy as np\n",
    "from sklearn.model_selection import train_test_split\n",
    "import collections\n",
    "from IPython.display import display\n",
    "import matplotlib.pyplot as plt\n",
    "\n",
    "COUNT = 1\n",
    "DISTANCE_WEIGHTED = 2"
   ]
  },
  {
   "cell_type": "code",
   "execution_count": 2,
   "metadata": {
    "collapsed": true
   },
   "outputs": [],
   "source": [
    "wine = pd.read_csv(\"winequality-red.csv\")\n",
    "wine_X = wine.iloc[:, 0:(wine.shape[1] - 1)]\n",
    "wine_X_norm = (wine_X - wine_X.mean()) / (wine_X.max() - wine_X.min())"
   ]
  },
  {
   "cell_type": "code",
   "execution_count": 4,
   "metadata": {
    "collapsed": true
   },
   "outputs": [],
   "source": [
    "X = np.array(wine_X)\n",
    "y = np.array(wine[\"class\"])\n",
    "\n",
    "X_train, X_test, y_train, y_test = train_test_split(X, y, test_size=0.25, random_state=42)"
   ]
  },
  {
   "cell_type": "code",
   "execution_count": 3,
   "metadata": {
    "collapsed": true
   },
   "outputs": [],
   "source": [
    "def euclidian_distance(A, B):\n",
    "    if not (A.ndim == 1 and B.ndim == 1):\n",
    "        raise ValueError(\"Both numpy arrays should be single rows (1 dimensional).\")\n",
    "    return np.sqrt(np.sum(np.square(A - B)))"
   ]
  },
  {
   "cell_type": "code",
   "execution_count": 4,
   "metadata": {
    "collapsed": true
   },
   "outputs": [],
   "source": [
    "def predict(train_X, labels, test, K, metric):\n",
    "    distances = []\n",
    "    for i, sample in enumerate(train_X):\n",
    "        distance = euclidian_distance(sample, test)\n",
    "        distances.append((distance, i))\n",
    "\n",
    "    distances.sort()\n",
    "\n",
    "    return predict_label(distances, labels, K, metric)"
   ]
  },
  {
   "cell_type": "code",
   "execution_count": 5,
   "metadata": {
    "collapsed": true
   },
   "outputs": [],
   "source": [
    "def predict_label(distances, labels, K, metric):\n",
    "    if metric == COUNT:\n",
    "        k_closest = [labels[x[1]] for x in distances[:K]]\n",
    "        counts = collections.Counter(k_closest)\n",
    "        return counts.most_common()[0][0], counts.most_common()[0][1] / K\n",
    "    if metric == DISTANCE_WEIGHTED:\n",
    "        label_sum = {}\n",
    "        max_sum = -1\n",
    "        count = 0\n",
    "        for distance, index in distances:\n",
    "            if distance == 0: continue\n",
    "            if count == K: break\n",
    "            count += 1\n",
    "            label_sum[labels[index]] = label_sum.get(labels[index], 0) + (1 / distance)\n",
    "            if label_sum[labels[index]] > max_sum:\n",
    "                max_sum = label_sum[labels[index]]\n",
    "                predicted_label = labels[index]\n",
    "        return predicted_label, max_sum / sum(label_sum.values())"
   ]
  },
  {
   "cell_type": "code",
   "execution_count": 6,
   "metadata": {
    "collapsed": true
   },
   "outputs": [],
   "source": [
    "def kNN(X_train, y_train, X_test, y_test, K, metric):\n",
    "    predicted = []\n",
    "    for i, test in enumerate(X_test):\n",
    "        predicted_class, posterior = predict(X_train, y_train, test, K, metric)\n",
    "        actual_class = y_test[i]\n",
    "        predicted.append((actual_class, predicted_class, posterior))\n",
    "    \n",
    "    prediction = pd.DataFrame.from_records(predicted, columns=[\"Actual\", \"Predicted\", \"Posterior\"])\n",
    "    \n",
    "    return prediction"
   ]
  },
  {
   "cell_type": "code",
   "execution_count": 7,
   "metadata": {
    "collapsed": true
   },
   "outputs": [],
   "source": [
    "def get_accuracy(prediction_df):\n",
    "    return prediction_df[prediction_df[\"Actual\"] == prediction_df[\"Predicted\"]].shape[0] / prediction_df.shape[0]"
   ]
  },
  {
   "cell_type": "code",
   "execution_count": 10,
   "metadata": {},
   "outputs": [
    {
     "data": {
      "text/plain": [
       "0.6275"
      ]
     },
     "execution_count": 10,
     "metadata": {},
     "output_type": "execute_result"
    }
   ],
   "source": [
    "get_accuracy(kNN(X_train, y_train, X_test, y_test, 24, DISTANCE_WEIGHTED))"
   ]
  },
  {
   "cell_type": "code",
   "execution_count": 11,
   "metadata": {},
   "outputs": [],
   "source": [
    "# Maximum accuracy is found at K = 38 for the euclidian distance measure.\n",
    "def optimal_K(metric):\n",
    "    K_candidates = range(1,50,2)\n",
    "    errors = []\n",
    "    for K in K_candidates:\n",
    "        accuracy = get_accuracy(kNN(X_train, y_train, X_test, y_test, K, metric))\n",
    "        errors.append(1 - accuracy)\n",
    "    \n",
    "    plt.plot(K_candidates, errors)\n",
    "    plt.show()\n",
    "    return np.where(errors==np.min(errors))"
   ]
  },
  {
   "cell_type": "code",
   "execution_count": null,
   "metadata": {
    "collapsed": true
   },
   "outputs": [],
   "source": [
    "K1 = optimal_K(COUNT)[0]\n",
    "K2 = optimal_K(DISTANCE_WEIGHTED)[0]"
   ]
  },
  {
   "cell_type": "code",
   "execution_count": null,
   "metadata": {
    "collapsed": true
   },
   "outputs": [],
   "source": [
    "def kNN_sklearn():\n",
    "    from sklearn.neighbors import KNeighborsClassifier\n",
    "    from sklearn.metrics import accuracy_score\n",
    "\n",
    "    knn = KNeighborsClassifier(n_neighbors=5)\n",
    "    knn.fit(X_train, y_train)\n",
    "    pred = knn.predict(X_test)\n",
    "    return accuracy_score(y_test, pred)\n",
    "\n",
    "kNN_sklearn()"
   ]
  },
  {
   "cell_type": "code",
   "execution_count": 9,
   "metadata": {
    "collapsed": true
   },
   "outputs": [],
   "source": [
    "X = np.array(wine_X_norm)\n",
    "y = np.array(wine[\"class\"])\n",
    "\n",
    "X_train, X_test, y_train, y_test = train_test_split(X, y, test_size=0.25, random_state=42)"
   ]
  },
  {
   "cell_type": "code",
   "execution_count": 10,
   "metadata": {},
   "outputs": [
    {
     "data": {
      "text/plain": [
       "0.7275"
      ]
     },
     "execution_count": 10,
     "metadata": {},
     "output_type": "execute_result"
    }
   ],
   "source": [
    "get_accuracy(kNN(X_train, y_train, X_test, y_test, 4, COUNT))"
   ]
  },
  {
   "cell_type": "code",
   "execution_count": 13,
   "metadata": {},
   "outputs": [
    {
     "data": {
      "image/png": "[encoded data removed]",
      "text/plain": [
       "<matplotlib.figure.Figure at 0x11e80dd68>"
      ]
     },
     "metadata": {},
     "output_type": "display_data"
    },
    {
     "name": "stdout",
     "output_type": "stream",
     "text": [
      "(array([0, 1]),)\n"
     ]
    },
    {
     "data": {
      "image/png": "[encoded data removed]",
      "text/plain": [
       "<matplotlib.figure.Figure at 0x11e81cac8>"
      ]
     },
     "metadata": {},
     "output_type": "display_data"
    },
    {
     "name": "stdout",
     "output_type": "stream",
     "text": [
      "(array([12]),)\n"
     ]
    }
   ],
   "source": [
    "print(optimal_K(COUNT))\n",
    "print(optimal_K(DISTANCE_WEIGHTED))"
   ]
  },
  {
   "cell_type": "code",
   "execution_count": null,
   "metadata": {
    "collapsed": true
   },
   "outputs": [],
   "source": []
  }
 ],
 "metadata": {
  "kernelspec": {
   "display_name": "Python 3",
   "language": "python",
   "name": "python3"
  },
  "language_info": {
   "codemirror_mode": {
    "name": "ipython",
    "version": 3
   },
   "file_extension": ".py",
   "mimetype": "text/x-python",
   "name": "python",
   "nbconvert_exporter": "python",
   "pygments_lexer": "ipython3",
   "version": "3.6.3"
  }
 },
 "nbformat": 4,
 "nbformat_minor": 2
}
